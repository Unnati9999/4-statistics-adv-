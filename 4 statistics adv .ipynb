{
 "cells": [
  {
   "cell_type": "markdown",
   "id": "93cf116a-0edc-472e-acc9-ff08d3bae523",
   "metadata": {},
   "source": [
    "Q1: What is the difference between a t-test and a z-test? Provide an example scenario where you would\n",
    "use each type of test."
   ]
  },
  {
   "cell_type": "markdown",
   "id": "a6eef5cb-6bca-45ec-84cf-097d3ee8427f",
   "metadata": {},
   "source": [
    "Definition of Z-Test                                                                \n",
    "Z-test is the statistical test used to analyze whether two population means are different or not when the variances are known, and the sample size is large."
   ]
  },
  {
   "cell_type": "markdown",
   "id": "d8099984-a4f7-4ff8-b5ba-e6b50077973c",
   "metadata": {},
   "source": [
    "The assumptions for Z-test are:                                           \n",
    "                                                               \n",
    "All observations are independent.                                                \n",
    "The size of the sample should be more than 30.                                         \n",
    "The Z distribution is normal when the mean is 0, and the variance is 1.                                "
   ]
  },
  {
   "cell_type": "code",
   "execution_count": null,
   "id": "1ddabf90-7631-4bb5-aa08-594c434ab356",
   "metadata": {},
   "outputs": [],
   "source": []
  },
  {
   "cell_type": "markdown",
   "id": "7bcae79e-e660-4c27-b351-940c6526d343",
   "metadata": {},
   "source": [
    "Definition Of T-Test                                              \n",
    "A T-test is a parametric test applied to identify how the average of two data sets differs when variance is not given"
   ]
  },
  {
   "cell_type": "markdown",
   "id": "eae6f83b-5157-4e86-a9dd-a167965b212f",
   "metadata": {},
   "source": [
    "here are the following assumptions taken for the T-Test:                                                                                                                                               \n",
    "All the data points are independent.                                                \n",
    "The sample size is very small.                                                                 \n",
    "The sample size should be taken and recorded accurately.                                         \n"
   ]
  },
  {
   "cell_type": "code",
   "execution_count": null,
   "id": "0ec2db3a-2df6-4dd1-a126-c2329611f4e1",
   "metadata": {},
   "outputs": [],
   "source": []
  },
  {
   "cell_type": "code",
   "execution_count": null,
   "id": "c078c229-94fc-4869-984b-5c068eb4e65d",
   "metadata": {},
   "outputs": [],
   "source": []
  },
  {
   "cell_type": "markdown",
   "id": "4f21d13f-a695-49a3-849e-a6c9d17fe899",
   "metadata": {},
   "source": [
    "Q2: Differentiate between one-tailed and two-tailed tests."
   ]
  },
  {
   "cell_type": "markdown",
   "id": "50410263-63fd-4d43-b5d3-5c240bd4d382",
   "metadata": {},
   "source": [
    "One-tailed tests allow for the possibility of an effect in one direction. Two-tailed tests test for the possibility of an effect in two directions—positive and negative. Simple as that concept may seem, there's a lot of controversy around one-tailed vs"
   ]
  },
  {
   "cell_type": "markdown",
   "id": "b1d68795-ad44-481d-a2de-3a416d29f5a5",
   "metadata": {},
   "source": [
    "The main difference between one-tailed and two-tailed tests is that one-tailed tests will only have one critical region whereas two-tailed tests will have two critical regions. If we require a 100(1−α) 100 ( 1 − α ) % confidence interval we have to make some adjustments when using a two-tailed test."
   ]
  },
  {
   "cell_type": "code",
   "execution_count": null,
   "id": "f32ac160-54ca-41c6-8834-fb7fb215ce33",
   "metadata": {},
   "outputs": [],
   "source": []
  },
  {
   "cell_type": "markdown",
   "id": "54d1de07-f9f5-4d11-9db8-cacc9626a506",
   "metadata": {},
   "source": [
    "Q3: Explain the concept of Type 1 and Type 2 errors in hypothesis testing. Provide an example scenario for\n",
    "each type of error."
   ]
  },
  {
   "cell_type": "markdown",
   "id": "f23f3cb5-15be-426e-bca1-782610684408",
   "metadata": {},
   "source": [
    "A type I error (false-positive) occurs if an investigator rejects a null hypothesis that is actually true in the population; a type II error (false-negative) occurs if the investigator fails to reject a null hypothesis that is actually false in the population."
   ]
  },
  {
   "cell_type": "markdown",
   "id": "f0e2a777-9b5b-470d-a4ad-226e132100a3",
   "metadata": {},
   "source": [
    "Type I error will be if the Jury convicts the person although the person was innocent . Type II error will be the case when Jury released the person  although the person is guilty."
   ]
  },
  {
   "cell_type": "code",
   "execution_count": null,
   "id": "d2a51d04-9651-4c2b-ba7f-cd9f14422277",
   "metadata": {},
   "outputs": [],
   "source": []
  },
  {
   "cell_type": "markdown",
   "id": "c6eb4d0d-993c-44bb-9dec-65b22331b68e",
   "metadata": {},
   "source": [
    "Q4: Explain Bayes's theorem with an example."
   ]
  },
  {
   "cell_type": "markdown",
   "id": "c67c6f22-4502-4738-8410-bb391361a639",
   "metadata": {},
   "source": [
    "Bayes theorem is also known as the formula for the probability of “causes”. For example: if we have to calculate the probability of taking a blue ball from the second bag out of three different bags of balls, where each bag contains three different colour balls viz. red, blue, black."
   ]
  },
  {
   "cell_type": "markdown",
   "id": "a6e09339-df80-4924-b174-38493c9165d1",
   "metadata": {},
   "source": [
    "Bayes' Theorem follows simply from the axioms of conditional probability, which is the probability of an event given that another event occurred."
   ]
  },
  {
   "cell_type": "code",
   "execution_count": null,
   "id": "b3ff2ca8-145a-41d4-a464-b95abb309eac",
   "metadata": {},
   "outputs": [],
   "source": []
  },
  {
   "cell_type": "markdown",
   "id": "0e9ff7a3-a30a-42bb-ab65-48c4ef1693a2",
   "metadata": {},
   "source": [
    "Q5: What is a confidence interval? How to calculate the confidence interval, explain with an example."
   ]
  },
  {
   "cell_type": "markdown",
   "id": "79745b5d-700d-478c-ad65-6e9c2258b3f2",
   "metadata": {},
   "source": [
    "The formula for a confidence interval is (mean – (z* (std_dev/sqrt(n)), mean + (z* (std_dev/sqrt(n)). So, the confidence interval is (85 – (1.96*(5/sqrt(30))), 85 + (1.96*(5/sqrt(30))) = (83.21, 86.79). For a 99% confidence interval and a sample size > 30, we typically use a z-score of 2.58."
   ]
  },
  {
   "cell_type": "code",
   "execution_count": null,
   "id": "007c1bfd-3527-4e98-a6ad-95e68630c574",
   "metadata": {},
   "outputs": [],
   "source": []
  },
  {
   "cell_type": "markdown",
   "id": "e3134db1-81e8-4497-be40-1d4d5f564f60",
   "metadata": {},
   "source": [
    "Q6. Use Bayes' Theorem to calculate the probability of an event occurring given prior knowledge of the\n",
    "event's probability and new evidence. Provide a sample problem and solution."
   ]
  },
  {
   "cell_type": "markdown",
   "id": "fb94afa7-20e0-4dfe-8ee7-249d3d27351f",
   "metadata": {},
   "source": [
    "To obtain this confidence interval, add and subtract the margin of error from the sample mean. This result is the upper limit and the lower limit of the confidence interval. The confidence interval may be wider or narrower depending on the degree of certainty, or estimation precision, that is required."
   ]
  },
  {
   "cell_type": "markdown",
   "id": "b4c0a38c-f8d0-4c74-9031-c659ea120594",
   "metadata": {},
   "source": [
    "For example, if you are estimating a 95% confidence interval around the mean proportion of female babies born every year based on a random sample of babies, you might find an upper bound of 0.56 and a lower bound of 0.48. These are the upper and lower bounds of the confidence interval. The confidence level is 95%."
   ]
  },
  {
   "cell_type": "code",
   "execution_count": null,
   "id": "d889202c-b765-4073-a4c9-d1f0fe08804e",
   "metadata": {},
   "outputs": [],
   "source": []
  },
  {
   "cell_type": "markdown",
   "id": "2d48711b-e52b-48e4-b255-5083e33f4e71",
   "metadata": {},
   "source": [
    "Q7. Calculate the 95% confidence interval for a sample of data with a mean of 50 and a standard deviation\n",
    "of 5. Interpret the results."
   ]
  },
  {
   "cell_type": "markdown",
   "id": "963d65ba-4d93-488d-bc8f-7a5b16d93da4",
   "metadata": {},
   "source": [
    "CI = \\bar{x} \\pm z \\frac{s}{\\sqrt{n}}"
   ]
  },
  {
   "cell_type": "markdown",
   "id": "c2c943c4-e1ff-472b-9e01-b9ccb84dc648",
   "metadata": {},
   "source": [
    "95% Confidence Interval: 50 ± NaN                                                          \n",
    "(NaN to NaN)                                                                     \n",
    "                                                 \n",
    "\"With 95% confidence the population mean is between NaN and NaN, based on only 0 samples.\"                              \n",
    "                                \n",
    "Short Styles:                                                             \n",
    "50 (95% CI NaN to NaN)                                        \n",
    "50, 95% CI [NaN, NaN]                                      \n",
    "                                              \n",
    "Margin of Error: NaN                                                  \n",
    "(to more digits: undefined)                                                    \n",
    "                                                       \n",
    "Sample Size: 0                                            \n",
    "Sample Mean: 50                                 \n",
    "Standard Deviation: 5                                            \n",
    "Confidence Level: 95%                                                     "
   ]
  },
  {
   "cell_type": "code",
   "execution_count": null,
   "id": "65366a87-03c8-4c01-98e4-060cfa77c963",
   "metadata": {},
   "outputs": [],
   "source": []
  },
  {
   "cell_type": "markdown",
   "id": "84536b63-3c24-4308-9f8b-c7b137ead166",
   "metadata": {},
   "source": [
    "Q8. What is the margin of error in a confidence interval? How does sample size affect the margin of error?\n",
    "Provide an example of a scenario where a larger sample size would result in a smaller margin of error."
   ]
  },
  {
   "cell_type": "markdown",
   "id": "4de9a1cf-0abc-456b-8e4c-a3bdee26d9d3",
   "metadata": {},
   "source": [
    "Confidence Interval = p ± z*√p(1-p) / n                                                         \n",
    "Notice that within the margin of error, we divide by n (the sample size). Thus, when the sample size is large we divide by a large number, which makes the entire margin of error smaller. This leads to a narrower confidence interval."
   ]
  },
  {
   "cell_type": "markdown",
   "id": "63e7edd7-ac75-4178-a633-aedfa3c9a98b",
   "metadata": {},
   "source": [
    " consider if we instead used a sample size of 200. Here’s how we would calculate the 95% confidence interval for the population proportion:                                                                      \n",
    "                                                           \n",
    "Confidence Interval = p  ±  z*√p(1-p) / n                                       \n",
    "Confidence Interval = .6 ±  1.96*√.6(1-.6) / 200                                 \n",
    "Confidence Interval = .6 ± 0.068                                     \n",
    "Confidence Interval = [.532, .668]                                "
   ]
  },
  {
   "cell_type": "markdown",
   "id": "8c4cb7c0-c905-4f19-b83d-bce35a182cc7",
   "metadata": {},
   "source": [
    "Here’s how to calculate a 95% confidence interval for the population proportion:                                                                                                                                   \n",
    "Confidence Interval = p  ±  z*√p(1-p) / n                  \n",
    "Confidence Interval = .6 ±  1.96*√.6(1-.6) / 25                                  \n",
    "Confidence Interval = .6 ± 0.192                                            \n",
    "Confidence Interval = [.408, .792]                                        "
   ]
  },
  {
   "cell_type": "code",
   "execution_count": null,
   "id": "7bee291f-0507-4ff5-afe8-52225f69ae8c",
   "metadata": {},
   "outputs": [],
   "source": []
  },
  {
   "cell_type": "markdown",
   "id": "b163a44a-ebf8-4a1f-b268-1a87513b54cf",
   "metadata": {},
   "source": [
    "Q9. Calculate the z-score for a data point with a value of 75, a population mean of 70, and a population\n",
    "standard deviation of 5. Interpret the results."
   ]
  },
  {
   "cell_type": "markdown",
   "id": "47314c02-799b-4170-aaab-631c6c7404b3",
   "metadata": {},
   "source": [
    "Z-score = 1                                                         \n",
    "\n",
    "Probability of x<75: 0.84134\t                              \n",
    "                 \n",
    "Probability of x> 75: 0.15866                        \t\n",
    "                                   \n",
    "Probability of 70<x<75: 0.34134\t                                               \n",
    "                      \n",
    "\n",
    "Steps:                   \n",
    "\n",
    "Z score =\t\n",
    "x - μ\n",
    "σ\n",
    "=\t\n",
    "75 - 70\n",
    "5\n",
    "=\t1\n",
    "P-value from Z-Table:\n",
    "\n",
    "P(x<75) = 0.84134\n",
    "\n",
    "P(x>75) = 1 - P(x<75) = 0.15866\n",
    "\n",
    "P(70<x<75) = P(x<75) - 0.5 = 0.34134"
   ]
  },
  {
   "cell_type": "code",
   "execution_count": null,
   "id": "be3939bf-290a-411c-ac3d-f4458589f4be",
   "metadata": {},
   "outputs": [],
   "source": []
  },
  {
   "cell_type": "markdown",
   "id": "f1f20340-c13c-4199-8b0a-ef3cb3b16ef7",
   "metadata": {},
   "source": [
    "Q10. In a study of the effectiveness of a new weight loss drug, a sample of 50 participants lost an average\n",
    "of 6 pounds with a standard deviation of 2.5 pounds. Conduct a hypothesis test to determine if the drug is\n",
    "significantly effective at a 95% confidence level using a t-test."
   ]
  },
  {
   "cell_type": "markdown",
   "id": "9bb9bcb3-6139-4f7c-9653-5512b1e6ab17",
   "metadata": {},
   "source": [
    "95% Confidence Interval: 6 ± 0.693                          \n",
    "(5.31 to 6.69)                                               \n",
    "                                              \n",
    "\"With 95% confidence the population mean is between 5.31 and 6.69, based on 50 samples.\"         \n",
    "                   \n",
    "Short Styles:                        \n",
    "6 (95% CI 5.31 to 6.69)               \n",
    "6, 95% CI [5.31, 6.69]               \n",
    "              \n",
    "Margin of Error: 0.693                                    \n",
    "(to more digits: 0.693)                         \n",
    "                 \n",
    "Sample Size: 50                            \n",
    "Sample Mean: 6                    \n",
    "Standard Deviation: 2.5                \n",
    "Confidence Level: 95%                          "
   ]
  },
  {
   "cell_type": "code",
   "execution_count": null,
   "id": "990610b8-8587-4ab6-9cd7-2bd265910e00",
   "metadata": {},
   "outputs": [],
   "source": []
  },
  {
   "cell_type": "markdown",
   "id": "1b13ca13-267b-480c-8250-c3cb57dea1fd",
   "metadata": {},
   "source": [
    "Q11. In a survey of 500 people, 65% reported being satisfied with their current job. Calculate the 95%\n",
    "confidence interval for the true proportion of people who are satisfied with their job."
   ]
  },
  {
   "cell_type": "markdown",
   "id": "65dd484b-15b7-4ff0-abf5-4276dba71b9c",
   "metadata": {},
   "source": [
    "95% Confidence Interval: 500 ± NaN                                   \n",
    "(NaN to NaN)                                              \n",
    "                                                                   \n",
    "\"With 95% confidence the population mean is between NaN and NaN, based on only 0 samples.\"\n",
    "                     \n",
    "Short Styles:                          \n",
    "500 (95% CI NaN to NaN)                                       \n",
    "500, 95% CI [NaN, NaN]                                  \n",
    "                           \n",
    "Margin of Error: NaN                                       \n",
    "(to more digits: NaN)                \n",
    "                   \n",
    "Sample Size: 0                                 \n",
    "Sample Mean: 500                                \n",
    "Standard Deviation: NaN         \n",
    "Confidence Level: 95%"
   ]
  },
  {
   "cell_type": "code",
   "execution_count": null,
   "id": "86496d1a-d417-4d50-b6b8-fa278ae3b677",
   "metadata": {},
   "outputs": [],
   "source": []
  },
  {
   "cell_type": "markdown",
   "id": "bad78fc4-183f-4c29-8b9a-dbbfe976138b",
   "metadata": {},
   "source": [
    "Q12. A researcher is testing the effectiveness of two different teaching methods on student performance.\n",
    "Sample A has a mean score of 85 with a standard deviation of 6, while sample B has a mean score of 82\n",
    "with a standard deviation of 5. Conduct a hypothesis test to determine if the two teaching methods have a\n",
    "significant difference in student performance using a t-test with a significance level of 0.01."
   ]
  },
  {
   "cell_type": "code",
   "execution_count": null,
   "id": "230cbc88-2c0c-40f0-9aa6-187832188f3e",
   "metadata": {},
   "outputs": [],
   "source": []
  },
  {
   "cell_type": "markdown",
   "id": "01e1c02e-365a-4b04-a8ad-16818da79c88",
   "metadata": {},
   "source": [
    "Q13. A population has a mean of 60 and a standard deviation of 8. A sample of 50 observations has a mean\n",
    "of 65. Calculate the 90% confidence interval for the true population mean."
   ]
  },
  {
   "cell_type": "markdown",
   "id": "e60251d5-805d-4e44-b529-053d6ec6409f",
   "metadata": {},
   "source": [
    "90% Confidence Interval: 65 ± NaN                                                          \n",
    "(NaN to NaN)                                                        \n",
    "                                                                                           \n",
    "\"With 90% confidence the population mean is between NaN and NaN, based on 50 samples.\"                       \n",
    "                 \n",
    "Short Styles:               \n",
    "65 (90% CI NaN to NaN)                      \n",
    "65, 90% CI [NaN, NaN]               \n",
    "                       \n",
    "Margin of Error: NaN                      \n",
    "(to more digits: NaN)                       \n",
    "                  \n",
    "Sample Size: 50                       \n",
    "Sample Mean: 65                \n",
    "Standard Deviation: NaN                   \n",
    "Confidence Level: 90%                              "
   ]
  },
  {
   "cell_type": "code",
   "execution_count": null,
   "id": "be3b7d8c-954e-41fc-ac1f-686b46379784",
   "metadata": {},
   "outputs": [],
   "source": []
  },
  {
   "cell_type": "markdown",
   "id": "055a5473-3d97-40d8-b20c-92310dfcb219",
   "metadata": {},
   "source": [
    "Q14. In a study of the effects of caffeine on reaction time, a sample of 30 participants had an average\n",
    "reaction time of 0.25 seconds with a standard deviation of 0.05 seconds. Conduct a hypothesis test to\n",
    "determine if the caffeine has a significant effect on reaction time at a 90% confidence level using a t-test."
   ]
  },
  {
   "cell_type": "code",
   "execution_count": null,
   "id": "c31a714a-824b-4968-a7eb-ecdb0ea63b09",
   "metadata": {},
   "outputs": [],
   "source": []
  }
 ],
 "metadata": {
  "kernelspec": {
   "display_name": "Python 3 (ipykernel)",
   "language": "python",
   "name": "python3"
  },
  "language_info": {
   "codemirror_mode": {
    "name": "ipython",
    "version": 3
   },
   "file_extension": ".py",
   "mimetype": "text/x-python",
   "name": "python",
   "nbconvert_exporter": "python",
   "pygments_lexer": "ipython3",
   "version": "3.10.8"
  }
 },
 "nbformat": 4,
 "nbformat_minor": 5
}
